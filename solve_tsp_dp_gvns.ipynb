{
  "nbformat": 4,
  "nbformat_minor": 0,
  "metadata": {
    "colab": {
      "name": "Untitled1.ipynb",
      "provenance": [],
      "collapsed_sections": []
    },
    "kernelspec": {
      "display_name": "Python 3",
      "name": "python3"
    }
  },
  "cells": [
    {
      "cell_type": "code",
      "metadata": {
        "id": "Nze75XW-8lxJ"
      },
      "source": [
        "# all needed imports\r\n",
        "import csv\r\n",
        "import time\r\n",
        "import pprint\r\n",
        "import random\r\n",
        "import os\r\n",
        "import matplotlib.pyplot as plt\r\n",
        "import matplotlib.lines as plt_lines\r\n",
        "#p=pprint.PrettyPrinter(width=1)\r\n",
        "#p.pprint({data:uh})"
      ],
      "execution_count": 1,
      "outputs": []
    },
    {
      "cell_type": "code",
      "metadata": {
        "id": "lD-SsN808v2T"
      },
      "source": [
        "# read data from txt or csv file\r\n",
        "def read_data(file_path, nb_cities_to_visit):\r\n",
        "  '''\r\n",
        "    function 'read_data' takes two parameters:\r\n",
        "      -file_path: path to the file to read\r\n",
        "      -nb_cities_to_visit: <= the size of the given array\r\n",
        "    and it has no return\r\n",
        "\r\n",
        "    it initialize the global array 'costs'\r\n",
        "  '''\r\n",
        "  global costs\r\n",
        "  with open(f'{file_path}') as csv_file:\r\n",
        "      csv_reader = csv.reader(csv_file, delimiter=',' if file_path.endswith('.csv') else '\\t')\r\n",
        "      costs, counter = [], 0\r\n",
        "      for line in csv_reader:\r\n",
        "        if counter<nb_cities_to_visit:\r\n",
        "          costs.append(list(map(int, line))[:nb_cities_to_visit])\r\n",
        "        else: break\r\n",
        "        counter+=1\r\n",
        "  # p=pprint.PrettyPrinter()\r\n",
        "  # p.pprint(costs)"
      ],
      "execution_count": 2,
      "outputs": []
    },
    {
      "cell_type": "code",
      "metadata": {
        "id": "sfw89plOFs0y"
      },
      "source": [
        "def tsp_dynamic_programming(first_city: int):\r\n",
        "  '''\r\n",
        "    function 'tsp_dynamic_programming' takes two parameters:\r\n",
        "      -costs: 2 dimensional list, contains the cost betwing two cities i and j\r\n",
        "        *example: cost(i, j) = data[i][j]\r\n",
        "      -first_city: the starting city\r\n",
        "    and it returns two variables:\r\n",
        "      -best_tour: one dimonsional list contains the best tour\r\n",
        "      -optimal_cost: the optimal cost\r\n",
        "  '''\r\n",
        "  def memoize(f):\r\n",
        "      '''\r\n",
        "        function 'memorize' takes one parameter:\r\n",
        "          -f: the function which we want to memorize its previous call returns\r\n",
        "      '''\r\n",
        "      memo_dict = {}\r\n",
        "      def memo_func(*args):\r\n",
        "          if args not in memo_dict:\r\n",
        "              memo_dict[args] = f(*args)\r\n",
        "          return memo_dict[args]\r\n",
        "      memo_func.clear = lambda: memo_dict.clear()\r\n",
        "      return memo_func\r\n",
        "  ff=first_city\r\n",
        "  @memoize\r\n",
        "  def rec_tsp_solving(target_city, inter_cities):\r\n",
        "      assert target_city not in inter_cities,\"ERROR: target city can not be in intermediate cities\"\r\n",
        "      if inter_cities:\r\n",
        "          return min((costs[lc][target_city] + rec_tsp_solving(lc, inter_cities - set([lc]))[0], lc)\r\n",
        "                      for lc in inter_cities)\r\n",
        "      else:\r\n",
        "        return (costs[ff][target_city], target_city)\r\n",
        "\r\n",
        "  best_tour, costs_length = [], len(costs)\r\n",
        "  init_city = first_city\r\n",
        "  inter_cities = frozenset([i for i in range(costs_length) if i!=first_city])\r\n",
        "  optimal_cost=-1 #unknown\r\n",
        "  while True:\r\n",
        "      l_cost, before_last_city = rec_tsp_solving(first_city, inter_cities)\r\n",
        "      if optimal_cost==-1: optimal_cost=l_cost\r\n",
        "      if before_last_city == first_city: break\r\n",
        "      best_tour.insert(0, before_last_city)\r\n",
        "      first_city = before_last_city\r\n",
        "      inter_cities -= frozenset([before_last_city])\r\n",
        "\r\n",
        "  return [init_city,*best_tour,init_city],optimal_cost"
      ],
      "execution_count": 3,
      "outputs": []
    },
    {
      "cell_type": "markdown",
      "metadata": {
        "id": "3tH7OplkrQtl"
      },
      "source": [
        "**Metaheuristic GVNS (General Variable Neighborhood Search)**\r\n",
        "\r\n",
        "Minimization object function"
      ]
    },
    {
      "cell_type": "code",
      "metadata": {
        "id": "UJUDtqX80MX6"
      },
      "source": [
        "def f(x: list):\r\n",
        "    cost = 0\r\n",
        "    for i in range(1,len(x)):\r\n",
        "        cost += costs[x[i - 1]][x[i]]\r\n",
        "    return cost"
      ],
      "execution_count": 4,
      "outputs": []
    },
    {
      "cell_type": "markdown",
      "metadata": {
        "id": "jzk3WD7wcE3a"
      },
      "source": [
        "Initialize an initial random path that GVNS works based on"
      ]
    },
    {
      "cell_type": "code",
      "metadata": {
        "id": "vAYQk4xzcWDd"
      },
      "source": [
        "def initilize(first_city):\r\n",
        "  init_path=[i for i in range(len(costs)) if i!=first_city]\r\n",
        "  random.shuffle(init_path)\r\n",
        "  return [first_city, *init_path, first_city]"
      ],
      "execution_count": 5,
      "outputs": []
    },
    {
      "cell_type": "markdown",
      "metadata": {
        "id": "-qtpZfyfz9z1"
      },
      "source": [
        "Shaking"
      ]
    },
    {
      "cell_type": "code",
      "metadata": {
        "id": "8oIk6c5wub00"
      },
      "source": [
        "def neighborhood(x, e = 1):\r\n",
        "  N = []\r\n",
        "  bound = int(len(x) - e)\r\n",
        "  for i in range(bound):\r\n",
        "    nx = x.copy()\r\n",
        "    nx[i],nx[i + e] = nx[i + e],nx[i]\r\n",
        "    N.append(nx)\r\n",
        "  return N"
      ],
      "execution_count": 6,
      "outputs": []
    },
    {
      "cell_type": "code",
      "metadata": {
        "id": "soADR8EWyDCL"
      },
      "source": [
        "def shake(x, k):\r\n",
        "  N = neighborhood(x, e = k)\r\n",
        "  init_x = random.choice(N)\r\n",
        "  return init_x"
      ],
      "execution_count": 7,
      "outputs": []
    },
    {
      "cell_type": "markdown",
      "metadata": {
        "id": "LxNUiuelyQWb"
      },
      "source": [
        "Changing neighborhood"
      ]
    },
    {
      "cell_type": "code",
      "metadata": {
        "id": "tNLzadk7ymHL"
      },
      "source": [
        "def change_neighborhood(x, bx, k):\r\n",
        "  if f(x)<f(bx):\r\n",
        "      bx, k = x, 1\r\n",
        "  else:\r\n",
        "      k += 1\r\n",
        "  return bx, k"
      ],
      "execution_count": 8,
      "outputs": []
    },
    {
      "cell_type": "markdown",
      "metadata": {
        "id": "IJztQX91ytE8"
      },
      "source": [
        "Local VND"
      ]
    },
    {
      "cell_type": "code",
      "metadata": {
        "id": "UMruWbmdvK3E"
      },
      "source": [
        "def FirstImprovement(bx, k):\r\n",
        "  while True:\r\n",
        "    N = neighborhood(bx, k)\r\n",
        "    x = bx\r\n",
        "    for i in N:\r\n",
        "      if f(i)<f(x):\r\n",
        "        x = i\r\n",
        "        break\r\n",
        "    if f(x)>=f(bx): break\r\n",
        "    else: bx = x\r\n",
        "  return bx"
      ],
      "execution_count": 9,
      "outputs": []
    },
    {
      "cell_type": "code",
      "metadata": {
        "id": "JFAjaP9HtIUj"
      },
      "source": [
        "#Variable Neighbourhood Descent Algorithm\r\n",
        "def VND(bx, N):\r\n",
        "  k = 0\r\n",
        "  while k<N:\r\n",
        "      x = FirstImprovement(bx, k)\r\n",
        "      bx, k = change_neighborhood(x, bx, k)\r\n",
        "  return bx"
      ],
      "execution_count": 10,
      "outputs": []
    },
    {
      "cell_type": "code",
      "metadata": {
        "id": "Khl7UMmP6W84"
      },
      "source": [
        "def GVNS(bx, execution_time, max_k=3, max_l=2, first_city=0):\r\n",
        "  start_time = time.time()\r\n",
        "  while time.time()-start_time < execution_time*60:\r\n",
        "      k = 1\r\n",
        "      while k <= max_k:\r\n",
        "          x_ = VND(shake(bx, k), max_l)\r\n",
        "          bx, k = change_neighborhood(bx, x_, k)\r\n",
        "          bx=[first_city, *[i for i in bx if i!=first_city], first_city]\r\n",
        "  return bx,f(bx)"
      ],
      "execution_count": 11,
      "outputs": []
    },
    {
      "cell_type": "markdown",
      "metadata": {
        "id": "rII_vsh_1eXW"
      },
      "source": [
        "Draw Simulation of found results"
      ]
    },
    {
      "cell_type": "code",
      "metadata": {
        "id": "MD1KBATNRvpG"
      },
      "source": [
        "def targetPlot(optimal_path:list, optimal_distance:int, coords:list=None, cities_name:list=None):\r\n",
        "    lenght=len(costs)\r\n",
        "    if not coords:\r\n",
        "      coords=[[random.randint(lenght,3*lenght),random.randint(lenght,3*lenght)] for i in range(lenght)]\r\n",
        "    print(f\"Used coordinates of cities (generated if there are not given):\")\r\n",
        "    p=pprint.PrettyPrinter()\r\n",
        "    p.pprint(coords)\r\n",
        "    cmap = plt.get_cmap('Set2')\r\n",
        "    colors = [cmap(i) for i in [round(random.random(), 8) for i in range(lenght)]]\r\n",
        "\r\n",
        "    # Figure build & display markers\r\n",
        "    f=plt.figure(figsize=(13, 12))\r\n",
        "    ax = f.add_subplot(111)\r\n",
        "    plt.scatter([i[0] for i in coords], [i[1] for i in coords], marker='o', c=colors, s=2*lenght)\r\n",
        "    \r\n",
        "    # Legend build\r\n",
        "    markers = []\r\n",
        "    labels = [str(i) for i in range(lenght)] if not cities_name else cities_name\r\n",
        "    for i in range(lenght):\r\n",
        "        markers.append(plt_lines.Line2D([0], [0], linestyle='None', marker=\"o\", markersize=20, markerfacecolor=colors[i]))\r\n",
        "    lgd = plt.legend(markers, labels, numpoints=1, bbox_to_anchor=(1, 1)) #(1.17, 0.5)\r\n",
        "\r\n",
        "    # Plot descriptive text\r\n",
        "    textstr =f'''Number of cities : {lenght}\r\n",
        "Optimal distance: {optimal_distance}\r\n",
        "Start city: {optimal_path[0] if not cities_name else cities_name[optimal_path[0]]}'''\r\n",
        "    props = {\"boxstyle\":'round', \"facecolor\":'wheat', \"alpha\":0.5}\r\n",
        "    plt.text(0.05, 0.98, textstr,transform = ax.transAxes, fontsize=14,verticalalignment='top', bbox=props)\r\n",
        "\r\n",
        "    # Trace the target\r\n",
        "    start_node = optimal_path[0]\r\n",
        "    for i in range(lenght):\r\n",
        "        start_pos = coords[start_node-1]\r\n",
        "        next_node = optimal_path[i+1]\r\n",
        "        end_pos = coords[next_node-1]\r\n",
        "        ax.annotate(\"\",\r\n",
        "                xy=start_pos, xycoords='data',\r\n",
        "                xytext=end_pos, textcoords='data',\r\n",
        "                arrowprops={'arrowstyle':\"<|-\",'connectionstyle':\"arc3\"}\r\n",
        "                )\r\n",
        "        start_node = next_node\r\n",
        "    plt.axis('equal')\r\n",
        "    plt.show()"
      ],
      "execution_count": 12,
      "outputs": []
    },
    {
      "cell_type": "markdown",
      "metadata": {
        "id": "50z7ChLaUEZ6"
      },
      "source": [
        "Main part of the application"
      ]
    },
    {
      "cell_type": "code",
      "metadata": {
        "id": "lnkC8hZqUBw1"
      },
      "source": [
        "while True:\r\n",
        "  try:\r\n",
        "    file_path=input(\"Insert (.txt, .csv) file path: \")\r\n",
        "    nb_cities_to_visit=int(input(\"Number of cities to visit: \"))\r\n",
        "    read_data(file_path, nb_cities_to_visit)\r\n",
        "    break\r\n",
        "  except IOError:\r\n",
        "    print(f\"ERROR: file '{file_path}' can't be found\")\r\n",
        "  except ValueError:\r\n",
        "    print(f\"ERROR: '{nb_cities_to_visit}' it's not a number\")\r\n",
        "\r\n",
        "# # while True:\r\n",
        "os.system(\"clear\")\r\n",
        "print(\"Menu\".center(30, \"-\"))\r\n",
        "print('''\r\n",
        "1- Solve With Dynamic Programming Approach (Exact Approach)\r\n",
        "2- Solve With GVNS Approach (Metaheuristic Approach)\r\n",
        "3- exit the application\r\n",
        "''')\r\n",
        "try:\r\n",
        "  choise=int(input(\"Make your choise: \"))\r\n",
        "  f_city=int(input(\"First city to visit: \"))\r\n",
        "  if choise==1:\r\n",
        "    t0=time.time()\r\n",
        "    optimal_path,optimal_distance=tsp_dynamic_programming(f_city)\r\n",
        "    t1=time.time()\r\n",
        "  elif choise==2:\r\n",
        "    execution_time=int(input(\"Execution time (in minutes): \"))\r\n",
        "    t0=time.time()\r\n",
        "    optimal_path,optimal_distance=GVNS(initilize(f_city), execution_time, first_city=f_city)\r\n",
        "    t1=time.time()\r\n",
        "  else: exit()\r\n",
        "  print(f'''\r\n",
        "  Optimal path is: {optimal_path}\r\n",
        "  Optimal distance is: {optimal_distance}\r\n",
        "  Execution time is: {t1-t0}\r\n",
        "  ''')\r\n",
        "  targetPlot(optimal_path,optimal_distance)\r\n",
        "except ValueError:\r\n",
        "  print(\"ERROR: Invalid option, please try again\")"
      ],
      "execution_count": null,
      "outputs": []
    }
  ]
}